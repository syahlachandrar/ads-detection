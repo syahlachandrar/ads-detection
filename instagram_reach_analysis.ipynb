{
 "cells": [
  {
   "cell_type": "markdown",
   "metadata": {
    "id": "EVIPRaHKR2jv"
   },
   "source": [
    "# **Instagram Reach Analysis**\n"
   ]
  },
  {
   "cell_type": "markdown",
   "metadata": {
    "id": "cixglBiCR3XV"
   },
   "source": [
    "Instagram merupakan salah satu aplikasi media sosial yang paling populer saat ini. Orang-orang yang menggunakan Instagram secara profesional menggunakannya untuk mempromosikan bisnis mereka, membangun portofolio, membuat blog, dan membuat berbagai jenis konten.\n",
    "\n",
    "Karena Instagram adalah aplikasi populer yang digunakan oleh jutaan orang dengan *niche* berbeda, Instagram terus berubah untuk menjadikan dirinya lebih baik bagi pembuat konten dan pengguna. Namun karena hal ini terus berubah, ini mempengaruhi jangkauan postingan kami yang memengaruhi kami dalam jangka panjang.\n",
    "\n",
    "Jadi, jika pembuat konten ingin sukses di Instagram dalam jangka panjang, mereka harus melihat data jangkauan Instagram mereka. Di situlah penggunaan Ilmu Data (*Data Science*) di media sosial masuk. Jika Anda ingin mempelajari cara menggunakan data Instagram kami untuk tugas analisis jangkauan Instagram, artikel ini cocok untuk Anda.\n"
   ]
  },
  {
   "cell_type": "markdown",
   "metadata": {
    "id": "2Rps6IPzS30-"
   },
   "source": [
    "Jika Anda ingin menganalisis jangkauan akun Instagram Anda, Anda harus mengumpulkan data Anda secara manual karena ada beberapa API, tetapi tidak berfungsi dengan baik. Jadi lebih baik mengumpulkan data Instagram Anda secara manual.\n",
    "\n",
    "Jika Anda seorang mahasiswa ilmu data (*data science*) dan ingin belajar analisis jangkauan (*reach*) Instagram menggunakan Python, Anda dapat menggunakan data dari dataset berikut ini.\n",
    "\n",
    "https://globalstudio.center/2023/06/11/instagram-reach-analysis/\n"
   ]
  },
  {
   "cell_type": "markdown",
   "metadata": {
    "id": "6WmQ2v7NAsBw"
   },
   "source": [
    "**Import libraries yang diperlukan dan dataset**.\n"
   ]
  },
  {
   "cell_type": "code",
   "execution_count": 6,
   "metadata": {
    "id": "9a-JLxsKRmdM"
   },
   "outputs": [],
   "source": [
    "# import libraries yang diperlukan\n",
    "\n",
    "import pandas as pd\n",
    "import numpy as np\n",
    "import matplotlib.pyplot as plt\n",
    "import seaborn as sns\n",
    "import plotly.express as px\n",
    "from wordcloud import WordCloud, STOPWORDS, ImageColorGenerator\n",
    "from sklearn.model_selection import train_test_split\n",
    "from sklearn.linear_model import PassiveAggressiveRegressor\n"
   ]
  },
  {
   "cell_type": "markdown",
   "metadata": {
    "id": "XQLz0mAjCcWu"
   },
   "source": [
    "## **J.62DMI00.001.1 - Mengumpulkan Data**\n"
   ]
  },
  {
   "cell_type": "code",
   "execution_count": 7,
   "metadata": {
    "colab": {
     "base_uri": "https://localhost:8080/"
    },
    "id": "tO74StwABgly",
    "outputId": "368a6817-15c4-4534-88fb-f4db9a4f82ac"
   },
   "outputs": [
    {
     "name": "stdout",
     "output_type": "stream",
     "text": [
      "   Impressions  From Home  From Hashtags  From Explore  From Other  Saves  \\\n",
      "0         3920       2586           1028           619          56     98   \n",
      "1         5394       2727           1838          1174          78    194   \n",
      "2         4021       2085           1188             0         533     41   \n",
      "3         4528       2700            621           932          73    172   \n",
      "4         2518       1704            255           279          37     96   \n",
      "\n",
      "   Comments  Shares  Likes  Profile Visits  Follows  \\\n",
      "0         9       5    162              35        2   \n",
      "1         7      14    224              48       10   \n",
      "2        11       1    131              62       12   \n",
      "3        10       7    213              23        8   \n",
      "4         5       4    123               8        0   \n",
      "\n",
      "                                             Caption  \\\n",
      "0  Here are some of the most important data visua...   \n",
      "1  Here are some of the best data science project...   \n",
      "2  Learn how to train a machine learning model an...   \n",
      "3  Heres how you can write a Python program to d...   \n",
      "4  Plotting annotations while visualizing your da...   \n",
      "\n",
      "                                            Hashtags  \n",
      "0  #finance #money #business #investing #investme...  \n",
      "1  #healthcare #health #covid #data #datascience ...  \n",
      "2  #data #datascience #dataanalysis #dataanalytic...  \n",
      "3  #python #pythonprogramming #pythonprojects #py...  \n",
      "4  #datavisualization #datascience #data #dataana...  \n"
     ]
    }
   ],
   "source": [
    "# import dataset\n",
    "\n",
    "data = pd.read_csv(\"data_instagram.csv\", encoding = 'latin1')\n",
    "print(data.head())\n"
   ]
  },
  {
   "cell_type": "markdown",
   "metadata": {
    "id": "XG7__ehMFBZJ"
   },
   "source": [
    "## **J.62DMI00.010.1 - Menentukan Label Data**\n"
   ]
  },
  {
   "cell_type": "code",
   "execution_count": null,
   "metadata": {
    "colab": {
     "base_uri": "https://localhost:8080/"
    },
    "id": "ZGuPwXkqFNUV",
    "outputId": "f6ca62b2-e6af-4f47-c883-a9599817549b"
   },
   "outputs": [],
   "source": [
    "# Menampilkan nama kolom (features atau variabel)\n",
    "\n",
    "print(data.columns)\n"
   ]
  },
  {
   "cell_type": "markdown",
   "metadata": {
    "id": "T9O680f6FyUR"
   },
   "source": [
    "## **J.62DMI00.007.1 - Menentukan Objek Data**\n"
   ]
  },
  {
   "cell_type": "code",
   "execution_count": 19,
   "metadata": {
    "colab": {
     "base_uri": "https://localhost:8080/"
    },
    "id": "XRb-XZImF5EQ",
    "outputId": "6992465d-2594-4165-b8f2-6d72a868e855"
   },
   "outputs": [
    {
     "name": "stdout",
     "output_type": "stream",
     "text": [
      "   Impressions  From Home  From Hashtags  From Explore  From Other  Saves  \\\n",
      "0         3920       2586           1028           619          56     98   \n",
      "1         5394       2727           1838          1174          78    194   \n",
      "2         4021       2085           1188             0         533     41   \n",
      "3         4528       2700            621           932          73    172   \n",
      "4         2518       1704            255           279          37     96   \n",
      "\n",
      "   Comments  Shares  Likes  Profile Visits  Follows  \\\n",
      "0         9       5    162              35        2   \n",
      "1         7      14    224              48       10   \n",
      "2        11       1    131              62       12   \n",
      "3        10       7    213              23        8   \n",
      "4         5       4    123               8        0   \n",
      "\n",
      "                                             Caption  \\\n",
      "0  Here are some of the most important data visua...   \n",
      "1  Here are some of the best data science project...   \n",
      "2  Learn how to train a machine learning model an...   \n",
      "3  Heres how you can write a Python program to d...   \n",
      "4  Plotting annotations while visualizing your da...   \n",
      "\n",
      "                                            Hashtags  \n",
      "0  #finance #money #business #investing #investme...  \n",
      "1  #healthcare #health #covid #data #datascience ...  \n",
      "2  #data #datascience #dataanalysis #dataanalytic...  \n",
      "3  #python #pythonprogramming #pythonprojects #py...  \n",
      "4  #datavisualization #datascience #data #dataana...  \n"
     ]
    }
   ],
   "source": [
    "# Menampilkan data 5 baris teratas\n",
    "\n",
    "print(data.head())\n"
   ]
  },
  {
   "cell_type": "markdown",
   "metadata": {
    "id": "Pagxov2mH-5K"
   },
   "source": [
    "## **J.62DMI00.008.1 - Membersihkan Data**\n"
   ]
  },
  {
   "cell_type": "markdown",
   "metadata": {
    "id": "tBGC_g-LCL39"
   },
   "source": [
    "Sekarang, mari kita lihat apakah kumpulan data (*dataset*) ini berisi nilai nol (null) atau tidak.\n"
   ]
  },
  {
   "cell_type": "code",
   "execution_count": 13,
   "metadata": {
    "colab": {
     "base_uri": "https://localhost:8080/"
    },
    "id": "UwWhAlC8CjhN",
    "outputId": "be432f26-123d-4d5d-821a-b061aa483a03"
   },
   "outputs": [
    {
     "data": {
      "text/plain": [
       "Impressions       0\n",
       "From Home         0\n",
       "From Hashtags     0\n",
       "From Explore      0\n",
       "From Other        0\n",
       "Saves             0\n",
       "Comments          0\n",
       "Shares            0\n",
       "Likes             0\n",
       "Profile Visits    0\n",
       "Follows           0\n",
       "Caption           0\n",
       "Hashtags          0\n",
       "dtype: int64"
      ]
     },
     "execution_count": 13,
     "metadata": {},
     "output_type": "execute_result"
    }
   ],
   "source": [
    "data.isnull().sum()\n"
   ]
  },
  {
   "cell_type": "markdown",
   "metadata": {
    "id": "NP_6pU9uC9BY"
   },
   "source": [
    "Terlihat, tidak ada nilai nol di setiap kolom.\n"
   ]
  },
  {
   "cell_type": "markdown",
   "metadata": {
    "id": "Um9N_Y0dDJRI"
   },
   "source": [
    "Namun jika ada nilai nol pada suatu kolom, bisa dihilangkan dengan perintah berikut:\n"
   ]
  },
  {
   "cell_type": "code",
   "execution_count": 14,
   "metadata": {
    "id": "4fLZc3trDTZC"
   },
   "outputs": [],
   "source": [
    "data = data.dropna()\n"
   ]
  },
  {
   "cell_type": "markdown",
   "metadata": {
    "id": "brqzwSIpHoMw"
   },
   "source": [
    "## **J.62DMI00.006.1 - Memvalidasi Data**\n"
   ]
  },
  {
   "cell_type": "markdown",
   "metadata": {
    "id": "58XksQ5LDbDh"
   },
   "source": [
    "Dan jangan lupa untuk untuk cek kembali, apakah kumpulan data (dataset) ini sudah tidak berisi nilai nol (null).\n"
   ]
  },
  {
   "cell_type": "code",
   "execution_count": null,
   "metadata": {
    "colab": {
     "base_uri": "https://localhost:8080/"
    },
    "id": "UO6OSSbkDssI",
    "outputId": "6ebcf0a1-daf4-4cab-b16a-4d19b53db44f"
   },
   "outputs": [],
   "source": [
    "data.isnull().sum()\n"
   ]
  },
  {
   "cell_type": "markdown",
   "metadata": {
    "id": "n8BDXitfHHKp"
   },
   "source": [
    "## **J.62DMI00.005.1 - Menelaah Data**\n"
   ]
  },
  {
   "cell_type": "markdown",
   "metadata": {
    "id": "3VIqDIBEDzvZ"
   },
   "source": [
    "Mari kita lihat tipe data untuk semua kolom.\n"
   ]
  },
  {
   "cell_type": "code",
   "execution_count": 20,
   "metadata": {
    "colab": {
     "base_uri": "https://localhost:8080/"
    },
    "id": "gukyk6KsEADb",
    "outputId": "96fd2381-8bca-4a8a-f64e-ca8552343e0a"
   },
   "outputs": [
    {
     "name": "stdout",
     "output_type": "stream",
     "text": [
      "<class 'pandas.core.frame.DataFrame'>\n",
      "RangeIndex: 119 entries, 0 to 118\n",
      "Data columns (total 13 columns):\n",
      " #   Column          Non-Null Count  Dtype \n",
      "---  ------          --------------  ----- \n",
      " 0   Impressions     119 non-null    int64 \n",
      " 1   From Home       119 non-null    int64 \n",
      " 2   From Hashtags   119 non-null    int64 \n",
      " 3   From Explore    119 non-null    int64 \n",
      " 4   From Other      119 non-null    int64 \n",
      " 5   Saves           119 non-null    int64 \n",
      " 6   Comments        119 non-null    int64 \n",
      " 7   Shares          119 non-null    int64 \n",
      " 8   Likes           119 non-null    int64 \n",
      " 9   Profile Visits  119 non-null    int64 \n",
      " 10  Follows         119 non-null    int64 \n",
      " 11  Caption         119 non-null    object\n",
      " 12  Hashtags        119 non-null    object\n",
      "dtypes: int64(11), object(2)\n",
      "memory usage: 12.2+ KB\n"
     ]
    }
   ],
   "source": [
    "data.info()\n"
   ]
  },
  {
   "cell_type": "markdown",
   "metadata": {
    "id": "TL-09JEuEKlB"
   },
   "source": [
    "**Menganalisa instagram reach**\n"
   ]
  },
  {
   "cell_type": "markdown",
   "metadata": {
    "id": "0NwR47OCEOiL"
   },
   "source": [
    "Sekarang mari kita mulai dengan menganalisis jangkauan (*reach*) postingan instagram. Pertama-tama kita akan melihat distribusi tayangan (*impression*) nya.\n"
   ]
  },
  {
   "cell_type": "code",
   "execution_count": null,
   "metadata": {
    "colab": {
     "base_uri": "https://localhost:8080/",
     "height": 836
    },
    "id": "advdORViEjW1",
    "outputId": "28fb9402-137c-484e-907e-7b85d347a955"
   },
   "outputs": [],
   "source": [
    "plt.figure(figsize=(10, 8))\n",
    "plt.style.use('fivethirtyeight')\n",
    "plt.title(\"Distribution of Impressions From Home\")\n",
    "sns.distplot(data['From Home'])\n",
    "plt.show()\n"
   ]
  },
  {
   "cell_type": "markdown",
   "metadata": {
    "id": "49l8mVFXFFf3"
   },
   "source": [
    "Impression yang diperoleh dari bagian beranda (home) di instagram menunjukkan seberapa banyak postingan yang menjangkau pengikut (follower).\n",
    "\n",
    "Melihat tayangan (impression) dari beranda (home), kita dapat mengatakan bahwa sulit untuk menjangkau semua pengikut (followers) setiap hari. Sekarang mari kita lihat distribusi impression dari tagar (hashtag):\n"
   ]
  },
  {
   "cell_type": "code",
   "execution_count": null,
   "metadata": {
    "colab": {
     "base_uri": "https://localhost:8080/",
     "height": 838
    },
    "id": "JnYarUatOk7K",
    "outputId": "43c4ea57-87bf-4fca-8bb8-2584ddebbb4b"
   },
   "outputs": [],
   "source": [
    "plt.figure(figsize=(10, 8))\n",
    "plt.title(\"Distribution of Impressions From Hashtags\")\n",
    "sns.distplot(data['From Hashtags'])\n",
    "plt.show()\n"
   ]
  },
  {
   "cell_type": "markdown",
   "metadata": {
    "id": "6zys5rEAO4lG"
   },
   "source": [
    "Tagar (hashtag) adalah alat yang digunakan untuk mengkategorikan postingan di instagram sehingga kreator dapat menjangkau lebih banyak orang berdasarkan jenis konten yang dibuat.\n",
    "\n",
    "Melihat impresi hashtag menunjukkan bahwa tidak semua postingan dapat dijangkau menggunakan hashtag, namun banyak pengguna baru yang dapat dijangkau dari hashtag. Sekarang mari kita lihat distribusi tayangan yang diterima dari bagian jelajahi (explore) instagram:\n"
   ]
  },
  {
   "cell_type": "code",
   "execution_count": null,
   "metadata": {
    "colab": {
     "base_uri": "https://localhost:8080/",
     "height": 846
    },
    "id": "NyqiCUw5Panb",
    "outputId": "5dad0d03-d6ae-488f-a124-033fab3b9e44"
   },
   "outputs": [],
   "source": [
    "plt.figure(figsize=(10, 8))\n",
    "plt.title(\"Distribution of Impressions From Explore\")\n",
    "sns.distplot(data['From Explore'])\n",
    "plt.show()\n"
   ]
  },
  {
   "cell_type": "markdown",
   "metadata": {
    "id": "K0zpGc-iRbGp"
   },
   "source": [
    "Bagian jelajahi (explore) instagram adalah sistem rekomendasi instagram, yang merekomendasikan posting kepada pengguna berdasarkan preferensi dan minat mereka.\n",
    "\n",
    "Dengan melihat impression dari bagian explore, kita dapat mengatakan bahwa instagram tidak terlalu merekomendasikan postingan kami kepada pengguna. Beberapa postingan telah menerima jangkauan (reach) yang baik dari bagian explore, tetapi masih sangat rendah dibandingkan dengan jangkauan (reach) yang diterima dari tagar (hashtag).\n"
   ]
  },
  {
   "cell_type": "markdown",
   "metadata": {
    "id": "dmCEa3ZtSndU"
   },
   "source": [
    "Sekarang mari kita lihat persentase impression dari berbagai sumber di Instagram.\n"
   ]
  },
  {
   "cell_type": "code",
   "execution_count": null,
   "metadata": {
    "colab": {
     "base_uri": "https://localhost:8080/",
     "height": 542
    },
    "id": "gHkIbJCySjLR",
    "outputId": "09070a36-021e-4d9d-a2e2-d9ee3e20d44a"
   },
   "outputs": [],
   "source": [
    "home = data[\"From Home\"].sum()\n",
    "hashtags = data[\"From Hashtags\"].sum()\n",
    "explore = data[\"From Explore\"].sum()\n",
    "other = data[\"From Other\"].sum()\n",
    "\n",
    "labels = ['From Home','From Hashtags','From Explore','Other']\n",
    "values = [home, hashtags, explore, other]\n",
    "\n",
    "fig = px.pie(data, values=values, names=labels,\n",
    "             title='Impressions on Instagram Posts From Various Sources', hole=0.5)\n",
    "fig.show()\n"
   ]
  },
  {
   "cell_type": "markdown",
   "metadata": {
    "id": "yvD82OYfTtlG"
   },
   "source": [
    "Jadi plot donat di atas menunjukkan bahwa hampir 45 persen jangkauan (reach) berasal dari pengikut (follower), 33,6 persen dari tagar (hastag), 19,2 persen dari bagian explore, dan 3,05 persen dari sumber lain.\n"
   ]
  },
  {
   "cell_type": "markdown",
   "metadata": {
    "id": "MKnzq7caUQAw"
   },
   "source": [
    "**Menganalisa konten**\n"
   ]
  },
  {
   "cell_type": "markdown",
   "metadata": {
    "id": "4uH21o0sUTEU"
   },
   "source": [
    "Sekarang mari kita menganalisis konten posting Instagram. Dua kolom terakhir pada dataset memiliki, yaitu caption dan hashtags, akan membantu kita memahami jenis konten yang diposting di Instagram.\n",
    "\n",
    "Mari buat wordcloud pada kolom caption untuk melihat kata-kata yang paling sering digunakan pada caption postingan instagram.\n"
   ]
  },
  {
   "cell_type": "code",
   "execution_count": null,
   "metadata": {
    "colab": {
     "base_uri": "https://localhost:8080/",
     "height": 405
    },
    "id": "n_D-E418VIJM",
    "outputId": "b9c67cac-a826-4bff-a3cb-514e6a32b1ee"
   },
   "outputs": [],
   "source": [
    "text = \" \".join(i for i in data.Caption)\n",
    "stopwords = set(STOPWORDS)\n",
    "wordcloud = WordCloud(stopwords=stopwords, background_color=\"white\").generate(text)\n",
    "plt.style.use('classic')\n",
    "plt.figure( figsize=(12,10))\n",
    "plt.imshow(wordcloud, interpolation='bilinear')\n",
    "plt.axis(\"off\")\n",
    "plt.show()\n"
   ]
  },
  {
   "cell_type": "markdown",
   "metadata": {
    "id": "aR4aYnLOVS6F"
   },
   "source": [
    "Sekarang mari buat wordcloud dari kolom hashtags untuk melihat hashtags yang paling banyak digunakan di posting instagram.\n"
   ]
  },
  {
   "cell_type": "code",
   "execution_count": null,
   "metadata": {
    "colab": {
     "base_uri": "https://localhost:8080/",
     "height": 405
    },
    "id": "St1zihAfVcmx",
    "outputId": "e42d35e0-6a7b-4655-deed-83c5d51ce39a"
   },
   "outputs": [],
   "source": [
    "text = \" \".join(i for i in data.Hashtags)\n",
    "stopwords = set(STOPWORDS)\n",
    "wordcloud = WordCloud(stopwords=stopwords, background_color=\"white\").generate(text)\n",
    "plt.figure( figsize=(12,10))\n",
    "plt.imshow(wordcloud, interpolation='bilinear')\n",
    "plt.axis(\"off\")\n",
    "plt.show()\n"
   ]
  },
  {
   "cell_type": "markdown",
   "metadata": {
    "id": "TjnyXIPqVljQ"
   },
   "source": [
    "**Menganalisa relationships**\n"
   ]
  },
  {
   "cell_type": "markdown",
   "metadata": {
    "id": "J4HExoAkVs0c"
   },
   "source": [
    "Sekarang mari kita analisis hubungan untuk menemukan faktor terpenting dari jangkauan instagram yang juga akan membantu kita dalam memahami cara kerja algoritma instagram.\n",
    "\n",
    "Mari kita lihat hubungan antara jumlah like dan jumlah impression di postingan instagram.\n"
   ]
  },
  {
   "cell_type": "code",
   "execution_count": null,
   "metadata": {
    "colab": {
     "base_uri": "https://localhost:8080/",
     "height": 542
    },
    "id": "leyFL4emWHFo",
    "outputId": "58b05112-2f52-4bc5-e237-5618b26bda4f"
   },
   "outputs": [],
   "source": [
    "figure = px.scatter(data_frame = data, x=\"Impressions\",\n",
    "                    y=\"Likes\", size=\"Likes\", trendline=\"ols\",\n",
    "                    title = \"Relationship Between Likes and Impressions\")\n",
    "figure.show()\n"
   ]
  },
  {
   "cell_type": "markdown",
   "metadata": {
    "id": "9w5pBAwLWQ8i"
   },
   "source": [
    "Ada hubungan linier antara jumlah like dan reach.\n",
    "\n",
    "Sekarang mari kita lihat hubungan antara jumlah comments dan jumlah impression di postingan instagram.\n"
   ]
  },
  {
   "cell_type": "code",
   "execution_count": null,
   "metadata": {
    "colab": {
     "base_uri": "https://localhost:8080/",
     "height": 542
    },
    "id": "NrDJfOb7WmZ3",
    "outputId": "eeaee741-bc66-422e-96e5-4caabcf4e7a2"
   },
   "outputs": [],
   "source": [
    "figure = px.scatter(data_frame = data, x=\"Impressions\",\n",
    "                    y=\"Comments\", size=\"Comments\", trendline=\"ols\",\n",
    "                    title = \"Relationship Between Comments and Total Impressions\")\n",
    "figure.show()\n"
   ]
  },
  {
   "cell_type": "markdown",
   "metadata": {
    "id": "9za7cV95Ww-3"
   },
   "source": [
    "Sepertinya jumlah comments dari sebuah postingan tidak memengaruhi jangkauan (reach) nya.\n",
    "\n",
    "Sekarang mari kita lihat hubungan antara share dan jumlah impression.\n"
   ]
  },
  {
   "cell_type": "code",
   "execution_count": null,
   "metadata": {
    "colab": {
     "base_uri": "https://localhost:8080/",
     "height": 542
    },
    "id": "j8MoO8QJXDxc",
    "outputId": "ed3c83cf-91e1-4650-83ea-e6c0a0717c7a"
   },
   "outputs": [],
   "source": [
    "figure = px.scatter(data_frame = data, x=\"Impressions\",\n",
    "                    y=\"Shares\", size=\"Shares\", trendline=\"ols\",\n",
    "                    title = \"Relationship Between Shares and Total Impressions\")\n",
    "figure.show()\n"
   ]
  },
  {
   "cell_type": "markdown",
   "metadata": {
    "id": "viWi5RIQXPPJ"
   },
   "source": [
    "Jumlah share yang lebih banyak akan menghasilkan jangkauan yang lebih tinggi, tetapi share tidak memengaruhi jangkauan postingan sebanyak yang di-like.\n",
    "\n",
    "Sekarang mari kita lihat hubungan antara jumlah save dan jumlah impression.\n"
   ]
  },
  {
   "cell_type": "code",
   "execution_count": null,
   "metadata": {
    "colab": {
     "base_uri": "https://localhost:8080/",
     "height": 542
    },
    "id": "IjVTbkRQXsN-",
    "outputId": "0930efdc-13f1-491f-eee9-b40b1662fcc9"
   },
   "outputs": [],
   "source": [
    "figure = px.scatter(data_frame = data, x=\"Impressions\",\n",
    "                    y=\"Saves\", size=\"Saves\", trendline=\"ols\",\n",
    "                    title = \"Relationship Between Post Saves and Total Impressions\")\n",
    "figure.show()\n"
   ]
  },
  {
   "cell_type": "markdown",
   "metadata": {
    "id": "B6RERLHxXz4n"
   },
   "source": [
    "Ada hubungan linier antara berapa kali postingan yang disimpan dan jangkauan (reach) postingan instagram.\n",
    "\n",
    "Sekarang mari kita lihat korelasi semua kolom dengan kolom impression.\n"
   ]
  },
  {
   "cell_type": "code",
   "execution_count": null,
   "metadata": {
    "id": "qOqNhW0iLEAe"
   },
   "outputs": [],
   "source": [
    "# Mengabaikan kolom 'Caption' dan 'Hashtags' untuk korelasi (karena tipe datanya adalah string)\n",
    "\n",
    "numeric_data = data.drop(['Caption', 'Hashtags'], axis=1)"
   ]
  },
  {
   "cell_type": "code",
   "execution_count": null,
   "metadata": {
    "colab": {
     "base_uri": "https://localhost:8080/"
    },
    "id": "ixmKEkbxYF9K",
    "outputId": "b5ba2350-172b-4d07-a795-a1082d8f4240"
   },
   "outputs": [],
   "source": [
    "correlation = numeric_data.corr()\n",
    "print(correlation[\"Impressions\"].sort_values(ascending=False))\n"
   ]
  },
  {
   "cell_type": "markdown",
   "metadata": {
    "id": "OoMpdiLRYb-e"
   },
   "source": [
    "Jadi kita dapat mengatakan bahwa lebih banyak likes dan save akan membantu untuk mendapatkan lebih banyak jangkauan (reach) di instagram.\n",
    "\n",
    "Jumlah share yang lebih tinggi juga akan membantu untuk mendapatkan lebih banyak jangkauan (reach), tetapi jumlah share yang rendah juga tidak akan mempengaruhi jangkauan (reach).\n"
   ]
  },
  {
   "cell_type": "markdown",
   "metadata": {
    "id": "Nvb2EsuGZeZg"
   },
   "source": [
    "**Menganalisa conversion rate**\n"
   ]
  },
  {
   "cell_type": "markdown",
   "metadata": {
    "id": "sF9dGAdbZjGk"
   },
   "source": [
    "Di Instagram, conversion rate berarti berapa banyak pengikut yang didapatkan dari jumlah kunjungan profil (profile visit) dari sebuah postingan.\n",
    "\n",
    "Rumus yang digunakan untuk menghitung tingkat konversi (conversion rate) adalah (**Follows/Profile Visits**) * **100**.\n",
    "\n",
    "Sekarang mari kita lihat tingkat konversi (conversion rate):\n"
   ]
  },
  {
   "cell_type": "code",
   "execution_count": null,
   "metadata": {
    "colab": {
     "base_uri": "https://localhost:8080/"
    },
    "id": "Zi1fGqWZan7H",
    "outputId": "e69ce5d3-2d63-4b6b-aac5-213a63222063"
   },
   "outputs": [],
   "source": [
    "conversion_rate = (data[\"Follows\"].sum() / data[\"Profile Visits\"].sum()) * 100\n",
    "print(conversion_rate)\n"
   ]
  },
  {
   "cell_type": "markdown",
   "metadata": {
    "id": "RTfs7e79avn7"
   },
   "source": [
    "Jadi tingkat konversi (conversion rate) akun instagram tersebut adalah 41% yang terdengar seperti tingkat konversi yang sangat bagus.\n",
    "\n",
    "Silakan googling dengan key words \"***how much is good conversion rate on instagram***\".\n",
    "\n",
    "Mari kita lihat hubungan antara total kunjungan profil (profile visits) dan jumlah pengikut (followers) yang diperoleh dari semua kunjungan profil.\n"
   ]
  },
  {
   "cell_type": "code",
   "execution_count": null,
   "metadata": {
    "colab": {
     "base_uri": "https://localhost:8080/",
     "height": 542
    },
    "id": "9EM-f6XIbJS5",
    "outputId": "422a123c-86a8-431f-f942-4db0bdba83e7"
   },
   "outputs": [],
   "source": [
    "figure = px.scatter(data_frame = data, x=\"Profile Visits\",\n",
    "                    y=\"Follows\", size=\"Follows\", trendline=\"ols\",\n",
    "                    title = \"Relationship Between Profile Visits and Followers Gained\")\n",
    "figure.show()\n"
   ]
  },
  {
   "cell_type": "markdown",
   "metadata": {
    "id": "s8m1QTlCbUCt"
   },
   "source": [
    "Terlihat hubungan antara kunjungan profil (profile visits) dan pengikut (followers) yang diperoleh juga bersifat linier."
   ]
  },
  {
   "cell_type": "markdown",
   "metadata": {
    "id": "pkfJVkK2JoQr"
   },
   "source": [
    "## **J.62DMI00.009.1 - Mengkonstruksi Data**\n"
   ]
  },
  {
   "cell_type": "markdown",
   "metadata": {
    "id": "uOAY-fdXbkMt"
   },
   "source": [
    "**Model prediksi instagram reach**\n"
   ]
  },
  {
   "cell_type": "markdown",
   "metadata": {
    "id": "En68c2FqbpAp"
   },
   "source": [
    "Sekarang di bagian ini, kita akan melatih model pembelajaran mesin (machine learning) untuk memprediksi jangkauan (reach) postingan Instagram.\n",
    "\n",
    "Mari pisahkan data menjadi set pelatihan (training set) dan pengujian (test set) sebelum melatih model.\n"
   ]
  },
  {
   "cell_type": "code",
   "execution_count": 8,
   "metadata": {
    "id": "eo5sF4-JcA6F"
   },
   "outputs": [],
   "source": [
    "x = np.array(data[['Likes', 'Saves', 'Comments', 'Shares',\n",
    "                   'Profile Visits', 'Follows']])\n",
    "y = np.array(data[\"Impressions\"])\n",
    "xtrain, xtest, ytrain, ytest = train_test_split(x, y,\n",
    "                                                test_size=0.25,\n",
    "                                                random_state=42)\n"
   ]
  },
  {
   "cell_type": "markdown",
   "metadata": {
    "id": "bnnVhkj_IZtA"
   },
   "source": [
    "## **J.62DMI00.013.1 - Membangun Model**\n"
   ]
  },
  {
   "cell_type": "markdown",
   "metadata": {
    "id": "sHcnXFLScWVB"
   },
   "source": [
    "Sekarang inilah cara kita melatih model pembelajaran mesin (machine learning) untuk memprediksi jangkauan (reach) postingan instagram menggunakan Python.\n"
   ]
  },
  {
   "cell_type": "code",
   "execution_count": 9,
   "metadata": {
    "colab": {
     "base_uri": "https://localhost:8080/",
     "height": 75
    },
    "id": "ho53VkAjche-",
    "outputId": "b7c5e746-74ef-43f7-a8ea-a1592e18c3fe"
   },
   "outputs": [
    {
     "data": {
      "text/plain": [
       "PassiveAggressiveRegressor()"
      ]
     },
     "execution_count": 9,
     "metadata": {},
     "output_type": "execute_result"
    }
   ],
   "source": [
    "model = PassiveAggressiveRegressor()\n",
    "model.fit(xtrain, ytrain)\n"
   ]
  },
  {
   "cell_type": "markdown",
   "metadata": {
    "id": "5op7YxfVIpDE"
   },
   "source": [
    "## **J.62DMI00.014.1 - Mengevaluasi Hasil Pemodelan**\n"
   ]
  },
  {
   "cell_type": "code",
   "execution_count": 12,
   "metadata": {
    "colab": {
     "base_uri": "https://localhost:8080/"
    },
    "id": "oKayWbSsItPE",
    "outputId": "6be502d1-3f28-4f42-de81-979109946e6f"
   },
   "outputs": [
    {
     "data": {
      "text/plain": [
       "0.6456147099066449"
      ]
     },
     "execution_count": 12,
     "metadata": {},
     "output_type": "execute_result"
    }
   ],
   "source": [
    "model.score(xtest, ytest)\n"
   ]
  },
  {
   "cell_type": "markdown",
   "metadata": {
    "id": "NPrYA6UKcoit"
   },
   "source": [
    "Hasil score masih merupakan angka yang cukup bagus.\n"
   ]
  },
  {
   "cell_type": "markdown",
   "metadata": {
    "id": "2wAHdA6dc1Mu"
   },
   "source": [
    "Sekarang mari kita prediksi jangkauan (reach) postingan instagram dengan memberikan input ke model pembelajaran mesin.\n"
   ]
  },
  {
   "cell_type": "code",
   "execution_count": 22,
   "metadata": {
    "colab": {
     "base_uri": "https://localhost:8080/"
    },
    "id": "CiDowoE1c_KJ",
    "outputId": "111f3c5d-a727-43a2-e138-a9b8517d8850"
   },
   "outputs": [
    {
     "data": {
      "text/plain": [
       "array([117353.70272313])"
      ]
     },
     "execution_count": 22,
     "metadata": {},
     "output_type": "execute_result"
    }
   ],
   "source": [
    "# Features = [['Likes','Saves', 'Comments', 'Shares', 'Profile Visits', 'Follows']]\n",
    "\n",
    "features = np.array([[4394, 0, 260, 0, 0, 0]])\n",
    "model.predict(features)\n"
   ]
  },
  {
   "cell_type": "markdown",
   "metadata": {
    "id": "za47qd0TdLIT"
   },
   "source": [
    "**Ringkasan**\n"
   ]
  },
  {
   "cell_type": "markdown",
   "metadata": {
    "id": "wWS6yuBfdQ6g"
   },
   "source": [
    "Jadi inilah cara kita menganalisis dan memprediksi jangkauan (reach) postingan instagram dengan pembelajaran mesin (machine learning) menggunakan Python.\n",
    "\n",
    "Jika pembuat konten ingin berhasil di instagram dalam jangka panjang, mereka harus melihat data jangkauan instagram mereka.\n"
   ]
  }
 ],
 "metadata": {
  "colab": {
   "provenance": []
  },
  "kernelspec": {
   "display_name": "myenv",
   "language": "python",
   "name": "python3"
  },
  "language_info": {
   "codemirror_mode": {
    "name": "ipython",
    "version": 3
   },
   "file_extension": ".py",
   "mimetype": "text/x-python",
   "name": "python",
   "nbconvert_exporter": "python",
   "pygments_lexer": "ipython3",
   "version": "3.12.0"
  }
 },
 "nbformat": 4,
 "nbformat_minor": 1
}
